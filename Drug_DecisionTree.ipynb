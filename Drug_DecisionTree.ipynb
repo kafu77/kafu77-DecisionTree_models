{
 "cells": [
  {
   "cell_type": "code",
   "execution_count": 1,
   "id": "3f28ff9d",
   "metadata": {},
   "outputs": [
    {
     "data": {
      "text/html": [
       "        <script type=\"text/javascript\">\n",
       "        window.PlotlyConfig = {MathJaxConfig: 'local'};\n",
       "        if (window.MathJax && window.MathJax.Hub && window.MathJax.Hub.Config) {window.MathJax.Hub.Config({SVG: {font: \"STIX-Web\"}});}\n",
       "        if (typeof require !== 'undefined') {\n",
       "        require.undef(\"plotly\");\n",
       "        requirejs.config({\n",
       "            paths: {\n",
       "                'plotly': ['https://cdn.plot.ly/plotly-2.12.1.min']\n",
       "            }\n",
       "        });\n",
       "        require(['plotly'], function(Plotly) {\n",
       "            window._Plotly = Plotly;\n",
       "        });\n",
       "        }\n",
       "        </script>\n",
       "        "
      ]
     },
     "metadata": {},
     "output_type": "display_data"
    }
   ],
   "source": [
    "#basic tools\n",
    "import numpy as np\n",
    "import math\n",
    "import scipy.optimize as minimize\n",
    "import pandas as pd\n",
    "import matplotlib.pyplot as plt\n",
    "import seaborn as sns\n",
    "import plotly.express as px\n",
    "import plotly.graph_objects as go\n",
    "import cufflinks as cf\n",
    "cf.go_offline()\n",
    "%matplotlib inline\n",
    "\n",
    "#Decision tree tools\n",
    "from sklearn.tree import DecisionTreeClassifier,export_graphviz,export_text,plot_tree\n",
    "from sklearn.preprocessing import StandardScaler,MinMaxScaler,OneHotEncoder,OrdinalEncoder\n",
    "from sklearn.impute import SimpleImputer,KNNImputer\n",
    "from sklearn.model_selection import train_test_split,ShuffleSplit,GridSearchCV,RandomizedSearchCV\n",
    "from sklearn.compose import ColumnTransformer,make_column_selector,make_column_transformer\n",
    "from sklearn.pipeline import Pipeline,make_pipeline\n",
    "from sklearn import set_config\n",
    "set_config('diagram')\n",
    "\n",
    "#evaluation tools\n",
    "from sklearn.metrics import accuracy_score,precision_score,recall_score, roc_curve\n",
    "from sklearn.metrics import confusion_matrix,classification_report\n",
    "from sklearn.metrics import ConfusionMatrixDisplay,RocCurveDisplay\n"
   ]
  },
  {
   "cell_type": "code",
   "execution_count": 2,
   "id": "98672955",
   "metadata": {},
   "outputs": [],
   "source": [
    "drug_df=pd.read_csv('drug200.csv')"
   ]
  },
  {
   "cell_type": "code",
   "execution_count": 3,
   "id": "f247fecb",
   "metadata": {},
   "outputs": [
    {
     "data": {
      "text/html": [
       "<div>\n",
       "<style scoped>\n",
       "    .dataframe tbody tr th:only-of-type {\n",
       "        vertical-align: middle;\n",
       "    }\n",
       "\n",
       "    .dataframe tbody tr th {\n",
       "        vertical-align: top;\n",
       "    }\n",
       "\n",
       "    .dataframe thead th {\n",
       "        text-align: right;\n",
       "    }\n",
       "</style>\n",
       "<table border=\"1\" class=\"dataframe\">\n",
       "  <thead>\n",
       "    <tr style=\"text-align: right;\">\n",
       "      <th></th>\n",
       "      <th>Age</th>\n",
       "      <th>Sex</th>\n",
       "      <th>BP</th>\n",
       "      <th>Cholesterol</th>\n",
       "      <th>Na_to_K</th>\n",
       "      <th>Drug</th>\n",
       "    </tr>\n",
       "  </thead>\n",
       "  <tbody>\n",
       "    <tr>\n",
       "      <th>0</th>\n",
       "      <td>23</td>\n",
       "      <td>F</td>\n",
       "      <td>HIGH</td>\n",
       "      <td>HIGH</td>\n",
       "      <td>25.355</td>\n",
       "      <td>DrugY</td>\n",
       "    </tr>\n",
       "    <tr>\n",
       "      <th>1</th>\n",
       "      <td>47</td>\n",
       "      <td>M</td>\n",
       "      <td>LOW</td>\n",
       "      <td>HIGH</td>\n",
       "      <td>13.093</td>\n",
       "      <td>drugC</td>\n",
       "    </tr>\n",
       "    <tr>\n",
       "      <th>2</th>\n",
       "      <td>47</td>\n",
       "      <td>M</td>\n",
       "      <td>LOW</td>\n",
       "      <td>HIGH</td>\n",
       "      <td>10.114</td>\n",
       "      <td>drugC</td>\n",
       "    </tr>\n",
       "    <tr>\n",
       "      <th>3</th>\n",
       "      <td>28</td>\n",
       "      <td>F</td>\n",
       "      <td>NORMAL</td>\n",
       "      <td>HIGH</td>\n",
       "      <td>7.798</td>\n",
       "      <td>drugX</td>\n",
       "    </tr>\n",
       "    <tr>\n",
       "      <th>4</th>\n",
       "      <td>61</td>\n",
       "      <td>F</td>\n",
       "      <td>LOW</td>\n",
       "      <td>HIGH</td>\n",
       "      <td>18.043</td>\n",
       "      <td>DrugY</td>\n",
       "    </tr>\n",
       "  </tbody>\n",
       "</table>\n",
       "</div>"
      ],
      "text/plain": [
       "   Age Sex      BP Cholesterol  Na_to_K   Drug\n",
       "0   23   F    HIGH        HIGH   25.355  DrugY\n",
       "1   47   M     LOW        HIGH   13.093  drugC\n",
       "2   47   M     LOW        HIGH   10.114  drugC\n",
       "3   28   F  NORMAL        HIGH    7.798  drugX\n",
       "4   61   F     LOW        HIGH   18.043  DrugY"
      ]
     },
     "execution_count": 3,
     "metadata": {},
     "output_type": "execute_result"
    }
   ],
   "source": [
    "drug_df.head()"
   ]
  },
  {
   "cell_type": "code",
   "execution_count": 4,
   "id": "15da2d44",
   "metadata": {},
   "outputs": [
    {
     "data": {
      "text/plain": [
       "(200, 6)"
      ]
     },
     "execution_count": 4,
     "metadata": {},
     "output_type": "execute_result"
    }
   ],
   "source": [
    "drug_df.shape"
   ]
  },
  {
   "cell_type": "code",
   "execution_count": 5,
   "id": "49b52b3b",
   "metadata": {},
   "outputs": [
    {
     "name": "stdout",
     "output_type": "stream",
     "text": [
      "<class 'pandas.core.frame.DataFrame'>\n",
      "RangeIndex: 200 entries, 0 to 199\n",
      "Data columns (total 6 columns):\n",
      " #   Column       Non-Null Count  Dtype  \n",
      "---  ------       --------------  -----  \n",
      " 0   Age          200 non-null    int64  \n",
      " 1   Sex          200 non-null    object \n",
      " 2   BP           200 non-null    object \n",
      " 3   Cholesterol  200 non-null    object \n",
      " 4   Na_to_K      200 non-null    float64\n",
      " 5   Drug         200 non-null    object \n",
      "dtypes: float64(1), int64(1), object(4)\n",
      "memory usage: 9.5+ KB\n"
     ]
    }
   ],
   "source": [
    "drug_df.info()"
   ]
  },
  {
   "cell_type": "code",
   "execution_count": 6,
   "id": "f544f042",
   "metadata": {},
   "outputs": [
    {
     "data": {
      "text/html": [
       "<div>\n",
       "<style scoped>\n",
       "    .dataframe tbody tr th:only-of-type {\n",
       "        vertical-align: middle;\n",
       "    }\n",
       "\n",
       "    .dataframe tbody tr th {\n",
       "        vertical-align: top;\n",
       "    }\n",
       "\n",
       "    .dataframe thead th {\n",
       "        text-align: right;\n",
       "    }\n",
       "</style>\n",
       "<table border=\"1\" class=\"dataframe\">\n",
       "  <thead>\n",
       "    <tr style=\"text-align: right;\">\n",
       "      <th></th>\n",
       "      <th>Age</th>\n",
       "      <th>Na_to_K</th>\n",
       "    </tr>\n",
       "  </thead>\n",
       "  <tbody>\n",
       "    <tr>\n",
       "      <th>count</th>\n",
       "      <td>200.000000</td>\n",
       "      <td>200.000000</td>\n",
       "    </tr>\n",
       "    <tr>\n",
       "      <th>mean</th>\n",
       "      <td>44.315000</td>\n",
       "      <td>16.084485</td>\n",
       "    </tr>\n",
       "    <tr>\n",
       "      <th>std</th>\n",
       "      <td>16.544315</td>\n",
       "      <td>7.223956</td>\n",
       "    </tr>\n",
       "    <tr>\n",
       "      <th>min</th>\n",
       "      <td>15.000000</td>\n",
       "      <td>6.269000</td>\n",
       "    </tr>\n",
       "    <tr>\n",
       "      <th>25%</th>\n",
       "      <td>31.000000</td>\n",
       "      <td>10.445500</td>\n",
       "    </tr>\n",
       "    <tr>\n",
       "      <th>50%</th>\n",
       "      <td>45.000000</td>\n",
       "      <td>13.936500</td>\n",
       "    </tr>\n",
       "    <tr>\n",
       "      <th>75%</th>\n",
       "      <td>58.000000</td>\n",
       "      <td>19.380000</td>\n",
       "    </tr>\n",
       "    <tr>\n",
       "      <th>max</th>\n",
       "      <td>74.000000</td>\n",
       "      <td>38.247000</td>\n",
       "    </tr>\n",
       "  </tbody>\n",
       "</table>\n",
       "</div>"
      ],
      "text/plain": [
       "              Age     Na_to_K\n",
       "count  200.000000  200.000000\n",
       "mean    44.315000   16.084485\n",
       "std     16.544315    7.223956\n",
       "min     15.000000    6.269000\n",
       "25%     31.000000   10.445500\n",
       "50%     45.000000   13.936500\n",
       "75%     58.000000   19.380000\n",
       "max     74.000000   38.247000"
      ]
     },
     "execution_count": 6,
     "metadata": {},
     "output_type": "execute_result"
    }
   ],
   "source": [
    "drug_df.describe()"
   ]
  },
  {
   "cell_type": "code",
   "execution_count": 7,
   "id": "64f28b6f",
   "metadata": {},
   "outputs": [
    {
     "data": {
      "text/plain": [
       "Age            0\n",
       "Sex            0\n",
       "BP             0\n",
       "Cholesterol    0\n",
       "Na_to_K        0\n",
       "Drug           0\n",
       "dtype: int64"
      ]
     },
     "execution_count": 7,
     "metadata": {},
     "output_type": "execute_result"
    }
   ],
   "source": [
    "drug_df.isna().sum()"
   ]
  },
  {
   "cell_type": "code",
   "execution_count": 8,
   "id": "156673df",
   "metadata": {},
   "outputs": [
    {
     "name": "stdout",
     "output_type": "stream",
     "text": [
      "[57, 2, 3, 2, 198, 5]\n"
     ]
    }
   ],
   "source": [
    "columns=[]\n",
    "for i in drug_df.columns:\n",
    "    columns.append(drug_df[i].nunique())\n",
    "\n",
    "print(columns)"
   ]
  },
  {
   "cell_type": "code",
   "execution_count": 9,
   "id": "20c7439f",
   "metadata": {},
   "outputs": [
    {
     "data": {
      "text/html": [
       "<div>\n",
       "<style scoped>\n",
       "    .dataframe tbody tr th:only-of-type {\n",
       "        vertical-align: middle;\n",
       "    }\n",
       "\n",
       "    .dataframe tbody tr th {\n",
       "        vertical-align: top;\n",
       "    }\n",
       "\n",
       "    .dataframe thead th {\n",
       "        text-align: right;\n",
       "    }\n",
       "</style>\n",
       "<table border=\"1\" class=\"dataframe\">\n",
       "  <thead>\n",
       "    <tr style=\"text-align: right;\">\n",
       "      <th></th>\n",
       "      <th>value_list</th>\n",
       "    </tr>\n",
       "  </thead>\n",
       "  <tbody>\n",
       "    <tr>\n",
       "      <th>Age</th>\n",
       "      <td>57</td>\n",
       "    </tr>\n",
       "    <tr>\n",
       "      <th>Sex</th>\n",
       "      <td>2</td>\n",
       "    </tr>\n",
       "    <tr>\n",
       "      <th>BP</th>\n",
       "      <td>3</td>\n",
       "    </tr>\n",
       "    <tr>\n",
       "      <th>Cholesterol</th>\n",
       "      <td>2</td>\n",
       "    </tr>\n",
       "    <tr>\n",
       "      <th>Na_to_K</th>\n",
       "      <td>198</td>\n",
       "    </tr>\n",
       "    <tr>\n",
       "      <th>Drug</th>\n",
       "      <td>5</td>\n",
       "    </tr>\n",
       "  </tbody>\n",
       "</table>\n",
       "</div>"
      ],
      "text/plain": [
       "             value_list\n",
       "Age                  57\n",
       "Sex                   2\n",
       "BP                    3\n",
       "Cholesterol           2\n",
       "Na_to_K             198\n",
       "Drug                  5"
      ]
     },
     "execution_count": 9,
     "metadata": {},
     "output_type": "execute_result"
    }
   ],
   "source": [
    "pd.DataFrame({'value_list':columns},index=drug_df.columns)    "
   ]
  },
  {
   "cell_type": "code",
   "execution_count": 10,
   "id": "8bc456a8",
   "metadata": {},
   "outputs": [
    {
     "data": {
      "text/plain": [
       "array(['F', 'M'], dtype=object)"
      ]
     },
     "execution_count": 10,
     "metadata": {},
     "output_type": "execute_result"
    }
   ],
   "source": [
    "drug_df['Sex'].unique()   #use a onehotencoder"
   ]
  },
  {
   "cell_type": "code",
   "execution_count": 11,
   "id": "d3808eb8",
   "metadata": {},
   "outputs": [
    {
     "data": {
      "text/plain": [
       "array(['HIGH', 'LOW', 'NORMAL'], dtype=object)"
      ]
     },
     "execution_count": 11,
     "metadata": {},
     "output_type": "execute_result"
    }
   ],
   "source": [
    "drug_df['BP'].unique()   # ordinalecoder [[LOW=0,NORMAL=1,HIGH=2]]"
   ]
  },
  {
   "cell_type": "code",
   "execution_count": 12,
   "id": "cfa1a382",
   "metadata": {},
   "outputs": [
    {
     "data": {
      "text/plain": [
       "array(['HIGH', 'NORMAL'], dtype=object)"
      ]
     },
     "execution_count": 12,
     "metadata": {},
     "output_type": "execute_result"
    }
   ],
   "source": [
    "drug_df['Cholesterol'].unique()  ## ordinalecoder [[NORMAL=0,HIGH=1]]"
   ]
  },
  {
   "cell_type": "code",
   "execution_count": 13,
   "id": "b76224b7",
   "metadata": {},
   "outputs": [
    {
     "data": {
      "text/plain": [
       "array(['DrugY', 'drugC', 'drugX', 'drugA', 'drugB'], dtype=object)"
      ]
     },
     "execution_count": 13,
     "metadata": {},
     "output_type": "execute_result"
    }
   ],
   "source": [
    "drug_df['Drug'].unique()"
   ]
  },
  {
   "cell_type": "markdown",
   "id": "51b5281f",
   "metadata": {},
   "source": [
    "# Prepare the data"
   ]
  },
  {
   "cell_type": "code",
   "execution_count": 14,
   "id": "1f073053",
   "metadata": {},
   "outputs": [],
   "source": [
    "X=drug_df.drop('Drug',axis=1)\n",
    "y=drug_df['Drug']"
   ]
  },
  {
   "cell_type": "code",
   "execution_count": 15,
   "id": "86b26284",
   "metadata": {},
   "outputs": [],
   "source": [
    "#split the data\n",
    "X_train, X_test, y_train, y_test = train_test_split(X, y, test_size=0.30, random_state=42)"
   ]
  },
  {
   "cell_type": "markdown",
   "id": "4fbae25d",
   "metadata": {},
   "source": [
    "### Make a transformer"
   ]
  },
  {
   "cell_type": "code",
   "execution_count": 73,
   "id": "85df6aba",
   "metadata": {},
   "outputs": [],
   "source": [
    "num_tran=Pipeline(\n",
    "        steps=[('knnimputer', KNNImputer()),\n",
    "               ('scaler',StandardScaler())])\n",
    "cat_tran=Pipeline(\n",
    "       steps=[('simpleimputer',SimpleImputer(strategy='constant',fill_value='missing')),\n",
    "              ('onehotencoder',OneHotEncoder(drop='if_binary', sparse=False)),\n",
    "              ('ordinalencoder',OrdinalEncoder( categories=[['LOW','NORMAL','HIGH']]))])"
   ]
  },
  {
   "cell_type": "code",
   "execution_count": 74,
   "id": "9bf2cc66",
   "metadata": {},
   "outputs": [],
   "source": [
    "preprocessor=ColumnTransformer(transformers=[('num',num_tran,make_column_selector(dtype_include=np.number)),\n",
    "                                             ('cat_1',cat_tran,make_column_selector(dtype_include='object'))])"
   ]
  },
  {
   "cell_type": "code",
   "execution_count": 65,
   "id": "93fa6fb5",
   "metadata": {},
   "outputs": [],
   "source": [
    "transformer = make_column_transformer((OneHotEncoder(drop = 'if_binary'), ['Sex']),\n",
    "                                     (OrdinalEncoder(categories = [['LOW', 'NORMAL', 'HIGH']]), ['BP']),\n",
    "                                      (OrdinalEncoder(categories=[[ 'NORMAL','HIGH']]),['Cholesterol']),\n",
    "                                      remainder=StandardScaler())"
   ]
  },
  {
   "cell_type": "code",
   "execution_count": 79,
   "id": "a5132f83",
   "metadata": {},
   "outputs": [],
   "source": [
    "#create the pipe\n",
    "pipe=Pipeline(\n",
    "          steps=[('transformer',transformer),\n",
    "                 ('model',DecisionTreeClassifier())])"
   ]
  },
  {
   "cell_type": "code",
   "execution_count": 80,
   "id": "137d541d",
   "metadata": {},
   "outputs": [],
   "source": [
    "#create the hyperparamers dictionary\n",
    "params = {'model__max_depth':[2,4,6],\n",
    "         'model__min_samples_split':[0.1, 0.2, 0.05],\n",
    "          'model__criterion': ['gini','entropy'],\n",
    "          'model__min_samples_leaf':[1,2,3]\n",
    "         }"
   ]
  },
  {
   "cell_type": "markdown",
   "id": "6dfa0f1a",
   "metadata": {},
   "source": [
    "### GridSearchCV"
   ]
  },
  {
   "cell_type": "code",
   "execution_count": 81,
   "id": "5b90a9d0",
   "metadata": {},
   "outputs": [],
   "source": [
    "grid_pipe=GridSearchCV(estimator=pipe,\n",
    "                      param_grid=params,\n",
    "                      cv=5,\n",
    "                      verbose=1)"
   ]
  },
  {
   "cell_type": "code",
   "execution_count": 82,
   "id": "e7ddccc8",
   "metadata": {},
   "outputs": [
    {
     "name": "stdout",
     "output_type": "stream",
     "text": [
      "Fitting 5 folds for each of 54 candidates, totalling 270 fits\n"
     ]
    },
    {
     "data": {
      "text/plain": [
       "GridSearchCV(cv=5,\n",
       "             estimator=Pipeline(steps=[('transformer',\n",
       "                                        ColumnTransformer(remainder=StandardScaler(),\n",
       "                                                          transformers=[('onehotencoder',\n",
       "                                                                         OneHotEncoder(drop='if_binary'),\n",
       "                                                                         ['Sex']),\n",
       "                                                                        ('ordinalencoder-1',\n",
       "                                                                         OrdinalEncoder(categories=[['LOW',\n",
       "                                                                                                     'NORMAL',\n",
       "                                                                                                     'HIGH']]),\n",
       "                                                                         ['BP']),\n",
       "                                                                        ('ordinalencoder-2',\n",
       "                                                                         OrdinalEncoder(categories=[['NORMAL',\n",
       "                                                                                                     'HIGH']]),\n",
       "                                                                         ['Cholesterol'])])),\n",
       "                                       ('model', DecisionTreeClassifier())]),\n",
       "             param_grid={'model__criterion': ['gini', 'entropy'],\n",
       "                         'model__max_depth': [2, 4, 6],\n",
       "                         'model__min_samples_leaf': [1, 2, 3],\n",
       "                         'model__min_samples_split': [0.1, 0.2, 0.05]},\n",
       "             verbose=1)"
      ]
     },
     "execution_count": 82,
     "metadata": {},
     "output_type": "execute_result"
    }
   ],
   "source": [
    "grid_pipe.fit(X_train,y_train)"
   ]
  },
  {
   "cell_type": "code",
   "execution_count": 71,
   "id": "4a63fb03",
   "metadata": {},
   "outputs": [
    {
     "data": {
      "text/plain": [
       "{'model__criterion': 'gini',\n",
       " 'model__max_depth': 4,\n",
       " 'model__min_samples_leaf': 1,\n",
       " 'model__min_samples_split': 0.1}"
      ]
     },
     "execution_count": 71,
     "metadata": {},
     "output_type": "execute_result"
    }
   ],
   "source": [
    "grid_pipe.best_params_"
   ]
  },
  {
   "cell_type": "code",
   "execution_count": 30,
   "id": "093450d9",
   "metadata": {},
   "outputs": [
    {
     "data": {
      "text/plain": [
       "{'mean_fit_time': array([0.01463876, 0.01460767, 0.0137569 , 0.01254115, 0.01395521,\n",
       "        0.01468654, 0.01335711, 0.01255903, 0.01335526, 0.01236091,\n",
       "        0.01554112, 0.01395526, 0.013343  , 0.01494679, 0.01375189,\n",
       "        0.0135705 , 0.01336145, 0.01353455, 0.01532869, 0.01396127,\n",
       "        0.01322017, 0.012572  , 0.01473112, 0.01346421, 0.01360326,\n",
       "        0.01487942, 0.01569986, 0.0133215 , 0.0157042 , 0.01213489,\n",
       "        0.01631103, 0.01371832, 0.01413078, 0.01375499, 0.01552668,\n",
       "        0.01437912, 0.01527877, 0.01335516, 0.01376171, 0.01477942,\n",
       "        0.01483688, 0.01521072, 0.01558723, 0.01440506, 0.0140954 ,\n",
       "        0.01355591, 0.01475234, 0.01398263, 0.01076732, 0.01492748,\n",
       "        0.01461344, 0.01584339, 0.01483812, 0.01547952]),\n",
       " 'std_fit_time': array([1.95114300e-03, 2.29521236e-03, 9.71151199e-04, 2.82864572e-03,\n",
       "        6.14361702e-07, 2.21901793e-03, 4.88363768e-04, 2.40707694e-03,\n",
       "        4.90082203e-04, 2.71807822e-03, 2.68504993e-03, 6.29028184e-04,\n",
       "        4.72129871e-04, 2.52193473e-03, 4.00242539e-04, 5.07731773e-04,\n",
       "        4.90683230e-04, 4.77464668e-04, 1.78173682e-03, 6.65146635e-04,\n",
       "        4.05046842e-04, 1.85900134e-03, 2.01091801e-03, 3.85136417e-04,\n",
       "        9.68408330e-04, 2.84620876e-04, 1.99327229e-03, 5.90715421e-04,\n",
       "        3.37404617e-03, 2.93960607e-03, 4.46072906e-03, 6.67869015e-04,\n",
       "        6.81106933e-04, 1.23109990e-03, 1.73208020e-03, 5.28445895e-04,\n",
       "        1.55741839e-03, 4.88597439e-04, 2.46222028e-03, 2.22320364e-04,\n",
       "        7.33214260e-04, 5.64853810e-04, 3.75917364e-03, 4.50572446e-04,\n",
       "        6.26051844e-04, 7.97880256e-04, 1.93412795e-03, 6.54822999e-04,\n",
       "        4.72702601e-03, 4.12938226e-05, 4.21803514e-04, 2.03303802e-03,\n",
       "        1.49560422e-03, 1.42055359e-03]),\n",
       " 'mean_score_time': array([0.00837431, 0.00795932, 0.00796981, 0.00797324, 0.00797367,\n",
       "        0.00816693, 0.00797338, 0.00725923, 0.00738869, 0.00777192,\n",
       "        0.00777383, 0.00797567, 0.00798063, 0.00857615, 0.00778699,\n",
       "        0.00815701, 0.00776734, 0.00818973, 0.00777068, 0.00791364,\n",
       "        0.00770798, 0.00757627, 0.0081399 , 0.00706692, 0.00801368,\n",
       "        0.0083427 , 0.00837822, 0.00804071, 0.00831308, 0.0071207 ,\n",
       "        0.00927582, 0.0079885 , 0.00726895, 0.00734468, 0.00862617,\n",
       "        0.0083529 , 0.00778103, 0.00718036, 0.00737171, 0.00814128,\n",
       "        0.00812922, 0.00851407, 0.00795002, 0.00848784, 0.00736527,\n",
       "        0.00751119, 0.00835767, 0.00796928, 0.00677428, 0.00799336,\n",
       "        0.00844488, 0.00834346, 0.00819368, 0.00866027]),\n",
       " 'std_score_time': array([7.98896774e-04, 3.19300495e-03, 6.30014342e-04, 6.64157308e-07,\n",
       "        5.84003864e-07, 3.86762693e-04, 2.78041453e-07, 6.20361800e-04,\n",
       "        1.16829910e-03, 3.98621930e-04, 1.59618332e-03, 5.93772365e-06,\n",
       "        3.27397935e-05, 1.73994795e-03, 4.05805399e-04, 3.74482537e-04,\n",
       "        4.02288766e-04, 4.30917911e-04, 6.11750958e-04, 5.89446943e-04,\n",
       "        2.14901498e-04, 4.90411947e-04, 2.21996237e-03, 4.99399171e-04,\n",
       "        1.02461601e-03, 4.81588472e-04, 1.20724973e-03, 1.33796150e-03,\n",
       "        4.12070483e-04, 1.16781083e-03, 2.30425604e-03, 7.87903136e-04,\n",
       "        2.23424365e-03, 4.85793810e-04, 1.27993731e-03, 4.87000062e-04,\n",
       "        9.77034369e-04, 1.15508047e-03, 2.93984696e-03, 4.62978703e-04,\n",
       "        9.34436460e-04, 3.51351680e-04, 7.23044921e-04, 8.68922948e-04,\n",
       "        8.05706025e-04, 4.53608534e-04, 1.36668405e-03, 6.32304188e-04,\n",
       "        2.01569825e-03, 3.13538471e-05, 4.66455689e-04, 5.16635974e-04,\n",
       "        7.12778561e-04, 6.12494989e-04]),\n",
       " 'param_model__criterion': masked_array(data=['gini', 'gini', 'gini', 'gini', 'gini', 'gini', 'gini',\n",
       "                    'gini', 'gini', 'gini', 'gini', 'gini', 'gini', 'gini',\n",
       "                    'gini', 'gini', 'gini', 'gini', 'gini', 'gini', 'gini',\n",
       "                    'gini', 'gini', 'gini', 'gini', 'gini', 'gini',\n",
       "                    'entropy', 'entropy', 'entropy', 'entropy', 'entropy',\n",
       "                    'entropy', 'entropy', 'entropy', 'entropy', 'entropy',\n",
       "                    'entropy', 'entropy', 'entropy', 'entropy', 'entropy',\n",
       "                    'entropy', 'entropy', 'entropy', 'entropy', 'entropy',\n",
       "                    'entropy', 'entropy', 'entropy', 'entropy', 'entropy',\n",
       "                    'entropy', 'entropy'],\n",
       "              mask=[False, False, False, False, False, False, False, False,\n",
       "                    False, False, False, False, False, False, False, False,\n",
       "                    False, False, False, False, False, False, False, False,\n",
       "                    False, False, False, False, False, False, False, False,\n",
       "                    False, False, False, False, False, False, False, False,\n",
       "                    False, False, False, False, False, False, False, False,\n",
       "                    False, False, False, False, False, False],\n",
       "        fill_value='?',\n",
       "             dtype=object),\n",
       " 'param_model__max_depth': masked_array(data=[2, 2, 2, 2, 2, 2, 2, 2, 2, 4, 4, 4, 4, 4, 4, 4, 4, 4,\n",
       "                    6, 6, 6, 6, 6, 6, 6, 6, 6, 2, 2, 2, 2, 2, 2, 2, 2, 2,\n",
       "                    4, 4, 4, 4, 4, 4, 4, 4, 4, 6, 6, 6, 6, 6, 6, 6, 6, 6],\n",
       "              mask=[False, False, False, False, False, False, False, False,\n",
       "                    False, False, False, False, False, False, False, False,\n",
       "                    False, False, False, False, False, False, False, False,\n",
       "                    False, False, False, False, False, False, False, False,\n",
       "                    False, False, False, False, False, False, False, False,\n",
       "                    False, False, False, False, False, False, False, False,\n",
       "                    False, False, False, False, False, False],\n",
       "        fill_value='?',\n",
       "             dtype=object),\n",
       " 'param_model__min_samples_leaf': masked_array(data=[1, 1, 1, 2, 2, 2, 3, 3, 3, 1, 1, 1, 2, 2, 2, 3, 3, 3,\n",
       "                    1, 1, 1, 2, 2, 2, 3, 3, 3, 1, 1, 1, 2, 2, 2, 3, 3, 3,\n",
       "                    1, 1, 1, 2, 2, 2, 3, 3, 3, 1, 1, 1, 2, 2, 2, 3, 3, 3],\n",
       "              mask=[False, False, False, False, False, False, False, False,\n",
       "                    False, False, False, False, False, False, False, False,\n",
       "                    False, False, False, False, False, False, False, False,\n",
       "                    False, False, False, False, False, False, False, False,\n",
       "                    False, False, False, False, False, False, False, False,\n",
       "                    False, False, False, False, False, False, False, False,\n",
       "                    False, False, False, False, False, False],\n",
       "        fill_value='?',\n",
       "             dtype=object),\n",
       " 'param_model__min_samples_split': masked_array(data=[0.1, 0.2, 0.05, 0.1, 0.2, 0.05, 0.1, 0.2, 0.05, 0.1,\n",
       "                    0.2, 0.05, 0.1, 0.2, 0.05, 0.1, 0.2, 0.05, 0.1, 0.2,\n",
       "                    0.05, 0.1, 0.2, 0.05, 0.1, 0.2, 0.05, 0.1, 0.2, 0.05,\n",
       "                    0.1, 0.2, 0.05, 0.1, 0.2, 0.05, 0.1, 0.2, 0.05, 0.1,\n",
       "                    0.2, 0.05, 0.1, 0.2, 0.05, 0.1, 0.2, 0.05, 0.1, 0.2,\n",
       "                    0.05, 0.1, 0.2, 0.05],\n",
       "              mask=[False, False, False, False, False, False, False, False,\n",
       "                    False, False, False, False, False, False, False, False,\n",
       "                    False, False, False, False, False, False, False, False,\n",
       "                    False, False, False, False, False, False, False, False,\n",
       "                    False, False, False, False, False, False, False, False,\n",
       "                    False, False, False, False, False, False, False, False,\n",
       "                    False, False, False, False, False, False],\n",
       "        fill_value='?',\n",
       "             dtype=object),\n",
       " 'params': [{'model__criterion': 'gini',\n",
       "   'model__max_depth': 2,\n",
       "   'model__min_samples_leaf': 1,\n",
       "   'model__min_samples_split': 0.1},\n",
       "  {'model__criterion': 'gini',\n",
       "   'model__max_depth': 2,\n",
       "   'model__min_samples_leaf': 1,\n",
       "   'model__min_samples_split': 0.2},\n",
       "  {'model__criterion': 'gini',\n",
       "   'model__max_depth': 2,\n",
       "   'model__min_samples_leaf': 1,\n",
       "   'model__min_samples_split': 0.05},\n",
       "  {'model__criterion': 'gini',\n",
       "   'model__max_depth': 2,\n",
       "   'model__min_samples_leaf': 2,\n",
       "   'model__min_samples_split': 0.1},\n",
       "  {'model__criterion': 'gini',\n",
       "   'model__max_depth': 2,\n",
       "   'model__min_samples_leaf': 2,\n",
       "   'model__min_samples_split': 0.2},\n",
       "  {'model__criterion': 'gini',\n",
       "   'model__max_depth': 2,\n",
       "   'model__min_samples_leaf': 2,\n",
       "   'model__min_samples_split': 0.05},\n",
       "  {'model__criterion': 'gini',\n",
       "   'model__max_depth': 2,\n",
       "   'model__min_samples_leaf': 3,\n",
       "   'model__min_samples_split': 0.1},\n",
       "  {'model__criterion': 'gini',\n",
       "   'model__max_depth': 2,\n",
       "   'model__min_samples_leaf': 3,\n",
       "   'model__min_samples_split': 0.2},\n",
       "  {'model__criterion': 'gini',\n",
       "   'model__max_depth': 2,\n",
       "   'model__min_samples_leaf': 3,\n",
       "   'model__min_samples_split': 0.05},\n",
       "  {'model__criterion': 'gini',\n",
       "   'model__max_depth': 4,\n",
       "   'model__min_samples_leaf': 1,\n",
       "   'model__min_samples_split': 0.1},\n",
       "  {'model__criterion': 'gini',\n",
       "   'model__max_depth': 4,\n",
       "   'model__min_samples_leaf': 1,\n",
       "   'model__min_samples_split': 0.2},\n",
       "  {'model__criterion': 'gini',\n",
       "   'model__max_depth': 4,\n",
       "   'model__min_samples_leaf': 1,\n",
       "   'model__min_samples_split': 0.05},\n",
       "  {'model__criterion': 'gini',\n",
       "   'model__max_depth': 4,\n",
       "   'model__min_samples_leaf': 2,\n",
       "   'model__min_samples_split': 0.1},\n",
       "  {'model__criterion': 'gini',\n",
       "   'model__max_depth': 4,\n",
       "   'model__min_samples_leaf': 2,\n",
       "   'model__min_samples_split': 0.2},\n",
       "  {'model__criterion': 'gini',\n",
       "   'model__max_depth': 4,\n",
       "   'model__min_samples_leaf': 2,\n",
       "   'model__min_samples_split': 0.05},\n",
       "  {'model__criterion': 'gini',\n",
       "   'model__max_depth': 4,\n",
       "   'model__min_samples_leaf': 3,\n",
       "   'model__min_samples_split': 0.1},\n",
       "  {'model__criterion': 'gini',\n",
       "   'model__max_depth': 4,\n",
       "   'model__min_samples_leaf': 3,\n",
       "   'model__min_samples_split': 0.2},\n",
       "  {'model__criterion': 'gini',\n",
       "   'model__max_depth': 4,\n",
       "   'model__min_samples_leaf': 3,\n",
       "   'model__min_samples_split': 0.05},\n",
       "  {'model__criterion': 'gini',\n",
       "   'model__max_depth': 6,\n",
       "   'model__min_samples_leaf': 1,\n",
       "   'model__min_samples_split': 0.1},\n",
       "  {'model__criterion': 'gini',\n",
       "   'model__max_depth': 6,\n",
       "   'model__min_samples_leaf': 1,\n",
       "   'model__min_samples_split': 0.2},\n",
       "  {'model__criterion': 'gini',\n",
       "   'model__max_depth': 6,\n",
       "   'model__min_samples_leaf': 1,\n",
       "   'model__min_samples_split': 0.05},\n",
       "  {'model__criterion': 'gini',\n",
       "   'model__max_depth': 6,\n",
       "   'model__min_samples_leaf': 2,\n",
       "   'model__min_samples_split': 0.1},\n",
       "  {'model__criterion': 'gini',\n",
       "   'model__max_depth': 6,\n",
       "   'model__min_samples_leaf': 2,\n",
       "   'model__min_samples_split': 0.2},\n",
       "  {'model__criterion': 'gini',\n",
       "   'model__max_depth': 6,\n",
       "   'model__min_samples_leaf': 2,\n",
       "   'model__min_samples_split': 0.05},\n",
       "  {'model__criterion': 'gini',\n",
       "   'model__max_depth': 6,\n",
       "   'model__min_samples_leaf': 3,\n",
       "   'model__min_samples_split': 0.1},\n",
       "  {'model__criterion': 'gini',\n",
       "   'model__max_depth': 6,\n",
       "   'model__min_samples_leaf': 3,\n",
       "   'model__min_samples_split': 0.2},\n",
       "  {'model__criterion': 'gini',\n",
       "   'model__max_depth': 6,\n",
       "   'model__min_samples_leaf': 3,\n",
       "   'model__min_samples_split': 0.05},\n",
       "  {'model__criterion': 'entropy',\n",
       "   'model__max_depth': 2,\n",
       "   'model__min_samples_leaf': 1,\n",
       "   'model__min_samples_split': 0.1},\n",
       "  {'model__criterion': 'entropy',\n",
       "   'model__max_depth': 2,\n",
       "   'model__min_samples_leaf': 1,\n",
       "   'model__min_samples_split': 0.2},\n",
       "  {'model__criterion': 'entropy',\n",
       "   'model__max_depth': 2,\n",
       "   'model__min_samples_leaf': 1,\n",
       "   'model__min_samples_split': 0.05},\n",
       "  {'model__criterion': 'entropy',\n",
       "   'model__max_depth': 2,\n",
       "   'model__min_samples_leaf': 2,\n",
       "   'model__min_samples_split': 0.1},\n",
       "  {'model__criterion': 'entropy',\n",
       "   'model__max_depth': 2,\n",
       "   'model__min_samples_leaf': 2,\n",
       "   'model__min_samples_split': 0.2},\n",
       "  {'model__criterion': 'entropy',\n",
       "   'model__max_depth': 2,\n",
       "   'model__min_samples_leaf': 2,\n",
       "   'model__min_samples_split': 0.05},\n",
       "  {'model__criterion': 'entropy',\n",
       "   'model__max_depth': 2,\n",
       "   'model__min_samples_leaf': 3,\n",
       "   'model__min_samples_split': 0.1},\n",
       "  {'model__criterion': 'entropy',\n",
       "   'model__max_depth': 2,\n",
       "   'model__min_samples_leaf': 3,\n",
       "   'model__min_samples_split': 0.2},\n",
       "  {'model__criterion': 'entropy',\n",
       "   'model__max_depth': 2,\n",
       "   'model__min_samples_leaf': 3,\n",
       "   'model__min_samples_split': 0.05},\n",
       "  {'model__criterion': 'entropy',\n",
       "   'model__max_depth': 4,\n",
       "   'model__min_samples_leaf': 1,\n",
       "   'model__min_samples_split': 0.1},\n",
       "  {'model__criterion': 'entropy',\n",
       "   'model__max_depth': 4,\n",
       "   'model__min_samples_leaf': 1,\n",
       "   'model__min_samples_split': 0.2},\n",
       "  {'model__criterion': 'entropy',\n",
       "   'model__max_depth': 4,\n",
       "   'model__min_samples_leaf': 1,\n",
       "   'model__min_samples_split': 0.05},\n",
       "  {'model__criterion': 'entropy',\n",
       "   'model__max_depth': 4,\n",
       "   'model__min_samples_leaf': 2,\n",
       "   'model__min_samples_split': 0.1},\n",
       "  {'model__criterion': 'entropy',\n",
       "   'model__max_depth': 4,\n",
       "   'model__min_samples_leaf': 2,\n",
       "   'model__min_samples_split': 0.2},\n",
       "  {'model__criterion': 'entropy',\n",
       "   'model__max_depth': 4,\n",
       "   'model__min_samples_leaf': 2,\n",
       "   'model__min_samples_split': 0.05},\n",
       "  {'model__criterion': 'entropy',\n",
       "   'model__max_depth': 4,\n",
       "   'model__min_samples_leaf': 3,\n",
       "   'model__min_samples_split': 0.1},\n",
       "  {'model__criterion': 'entropy',\n",
       "   'model__max_depth': 4,\n",
       "   'model__min_samples_leaf': 3,\n",
       "   'model__min_samples_split': 0.2},\n",
       "  {'model__criterion': 'entropy',\n",
       "   'model__max_depth': 4,\n",
       "   'model__min_samples_leaf': 3,\n",
       "   'model__min_samples_split': 0.05},\n",
       "  {'model__criterion': 'entropy',\n",
       "   'model__max_depth': 6,\n",
       "   'model__min_samples_leaf': 1,\n",
       "   'model__min_samples_split': 0.1},\n",
       "  {'model__criterion': 'entropy',\n",
       "   'model__max_depth': 6,\n",
       "   'model__min_samples_leaf': 1,\n",
       "   'model__min_samples_split': 0.2},\n",
       "  {'model__criterion': 'entropy',\n",
       "   'model__max_depth': 6,\n",
       "   'model__min_samples_leaf': 1,\n",
       "   'model__min_samples_split': 0.05},\n",
       "  {'model__criterion': 'entropy',\n",
       "   'model__max_depth': 6,\n",
       "   'model__min_samples_leaf': 2,\n",
       "   'model__min_samples_split': 0.1},\n",
       "  {'model__criterion': 'entropy',\n",
       "   'model__max_depth': 6,\n",
       "   'model__min_samples_leaf': 2,\n",
       "   'model__min_samples_split': 0.2},\n",
       "  {'model__criterion': 'entropy',\n",
       "   'model__max_depth': 6,\n",
       "   'model__min_samples_leaf': 2,\n",
       "   'model__min_samples_split': 0.05},\n",
       "  {'model__criterion': 'entropy',\n",
       "   'model__max_depth': 6,\n",
       "   'model__min_samples_leaf': 3,\n",
       "   'model__min_samples_split': 0.1},\n",
       "  {'model__criterion': 'entropy',\n",
       "   'model__max_depth': 6,\n",
       "   'model__min_samples_leaf': 3,\n",
       "   'model__min_samples_split': 0.2},\n",
       "  {'model__criterion': 'entropy',\n",
       "   'model__max_depth': 6,\n",
       "   'model__min_samples_leaf': 3,\n",
       "   'model__min_samples_split': 0.05}],\n",
       " 'split0_test_score': array([0.85714286, 0.85714286, 0.85714286, 0.85714286, 0.85714286,\n",
       "        0.85714286, 0.85714286, 0.85714286, 0.85714286, 1.        ,\n",
       "        0.92857143, 1.        , 1.        , 0.92857143, 1.        ,\n",
       "        1.        , 0.92857143, 1.        , 1.        , 0.92857143,\n",
       "        1.        , 1.        , 0.92857143, 1.        , 1.        ,\n",
       "        0.92857143, 1.        , 0.85714286, 0.85714286, 0.85714286,\n",
       "        0.85714286, 0.85714286, 0.85714286, 0.85714286, 0.85714286,\n",
       "        0.85714286, 1.        , 0.92857143, 1.        , 1.        ,\n",
       "        0.92857143, 1.        , 1.        , 0.92857143, 1.        ,\n",
       "        1.        , 0.92857143, 1.        , 1.        , 0.92857143,\n",
       "        1.        , 1.        , 0.92857143, 1.        ]),\n",
       " 'split1_test_score': array([0.82142857, 0.82142857, 0.82142857, 0.82142857, 0.82142857,\n",
       "        0.82142857, 0.82142857, 0.82142857, 0.82142857, 1.        ,\n",
       "        0.85714286, 1.        , 1.        , 0.85714286, 1.        ,\n",
       "        1.        , 0.85714286, 1.        , 1.        , 0.85714286,\n",
       "        1.        , 1.        , 0.85714286, 1.        , 1.        ,\n",
       "        0.85714286, 1.        , 0.82142857, 0.82142857, 0.82142857,\n",
       "        0.82142857, 0.82142857, 0.82142857, 0.82142857, 0.82142857,\n",
       "        0.82142857, 1.        , 0.85714286, 1.        , 1.        ,\n",
       "        0.85714286, 1.        , 1.        , 0.85714286, 1.        ,\n",
       "        1.        , 0.85714286, 1.        , 1.        , 0.85714286,\n",
       "        1.        , 1.        , 0.85714286, 1.        ]),\n",
       " 'split2_test_score': array([0.82142857, 0.82142857, 0.82142857, 0.82142857, 0.82142857,\n",
       "        0.82142857, 0.82142857, 0.82142857, 0.82142857, 1.        ,\n",
       "        0.92857143, 1.        , 1.        , 0.92857143, 1.        ,\n",
       "        1.        , 0.92857143, 1.        , 1.        , 0.92857143,\n",
       "        1.        , 1.        , 0.92857143, 1.        , 1.        ,\n",
       "        0.92857143, 1.        , 0.82142857, 0.82142857, 0.82142857,\n",
       "        0.82142857, 0.82142857, 0.82142857, 0.82142857, 0.82142857,\n",
       "        0.82142857, 1.        , 0.92857143, 1.        , 1.        ,\n",
       "        0.92857143, 1.        , 1.        , 0.92857143, 1.        ,\n",
       "        1.        , 0.92857143, 1.        , 1.        , 0.92857143,\n",
       "        1.        , 1.        , 0.92857143, 1.        ]),\n",
       " 'split3_test_score': array([0.82142857, 0.82142857, 0.82142857, 0.82142857, 0.82142857,\n",
       "        0.82142857, 0.82142857, 0.82142857, 0.82142857, 0.96428571,\n",
       "        0.89285714, 0.96428571, 0.96428571, 0.89285714, 0.96428571,\n",
       "        0.96428571, 0.89285714, 0.96428571, 0.96428571, 0.89285714,\n",
       "        0.96428571, 0.96428571, 0.89285714, 0.96428571, 0.96428571,\n",
       "        0.89285714, 0.96428571, 0.82142857, 0.82142857, 0.82142857,\n",
       "        0.82142857, 0.82142857, 0.82142857, 0.82142857, 0.82142857,\n",
       "        0.82142857, 0.96428571, 0.89285714, 0.96428571, 0.96428571,\n",
       "        0.89285714, 0.96428571, 0.96428571, 0.89285714, 0.96428571,\n",
       "        0.96428571, 0.89285714, 0.96428571, 0.96428571, 0.89285714,\n",
       "        0.96428571, 0.96428571, 0.89285714, 0.96428571]),\n",
       " 'split4_test_score': array([0.85714286, 0.85714286, 0.85714286, 0.85714286, 0.85714286,\n",
       "        0.85714286, 0.85714286, 0.85714286, 0.85714286, 1.        ,\n",
       "        0.92857143, 1.        , 1.        , 0.92857143, 1.        ,\n",
       "        1.        , 0.92857143, 1.        , 1.        , 0.92857143,\n",
       "        1.        , 1.        , 0.92857143, 1.        , 1.        ,\n",
       "        0.92857143, 1.        , 0.85714286, 0.85714286, 0.85714286,\n",
       "        0.85714286, 0.85714286, 0.85714286, 0.85714286, 0.85714286,\n",
       "        0.85714286, 1.        , 0.92857143, 1.        , 1.        ,\n",
       "        0.92857143, 1.        , 1.        , 0.92857143, 1.        ,\n",
       "        1.        , 0.92857143, 1.        , 1.        , 0.92857143,\n",
       "        1.        , 1.        , 0.92857143, 1.        ]),\n",
       " 'mean_test_score': array([0.83571429, 0.83571429, 0.83571429, 0.83571429, 0.83571429,\n",
       "        0.83571429, 0.83571429, 0.83571429, 0.83571429, 0.99285714,\n",
       "        0.90714286, 0.99285714, 0.99285714, 0.90714286, 0.99285714,\n",
       "        0.99285714, 0.90714286, 0.99285714, 0.99285714, 0.90714286,\n",
       "        0.99285714, 0.99285714, 0.90714286, 0.99285714, 0.99285714,\n",
       "        0.90714286, 0.99285714, 0.83571429, 0.83571429, 0.83571429,\n",
       "        0.83571429, 0.83571429, 0.83571429, 0.83571429, 0.83571429,\n",
       "        0.83571429, 0.99285714, 0.90714286, 0.99285714, 0.99285714,\n",
       "        0.90714286, 0.99285714, 0.99285714, 0.90714286, 0.99285714,\n",
       "        0.99285714, 0.90714286, 0.99285714, 0.99285714, 0.90714286,\n",
       "        0.99285714, 0.99285714, 0.90714286, 0.99285714]),\n",
       " 'std_test_score': array([0.01749636, 0.01749636, 0.01749636, 0.01749636, 0.01749636,\n",
       "        0.01749636, 0.01749636, 0.01749636, 0.01749636, 0.01428571,\n",
       "        0.02857143, 0.01428571, 0.01428571, 0.02857143, 0.01428571,\n",
       "        0.01428571, 0.02857143, 0.01428571, 0.01428571, 0.02857143,\n",
       "        0.01428571, 0.01428571, 0.02857143, 0.01428571, 0.01428571,\n",
       "        0.02857143, 0.01428571, 0.01749636, 0.01749636, 0.01749636,\n",
       "        0.01749636, 0.01749636, 0.01749636, 0.01749636, 0.01749636,\n",
       "        0.01749636, 0.01428571, 0.02857143, 0.01428571, 0.01428571,\n",
       "        0.02857143, 0.01428571, 0.01428571, 0.02857143, 0.01428571,\n",
       "        0.01428571, 0.02857143, 0.01428571, 0.01428571, 0.02857143,\n",
       "        0.01428571, 0.01428571, 0.02857143, 0.01428571]),\n",
       " 'rank_test_score': array([37, 37, 37, 37, 37, 37, 37, 37, 37,  1, 25,  1,  1, 25,  1,  1, 25,\n",
       "         1,  1, 25,  1,  1, 25,  1,  1, 25,  1, 37, 37, 37, 37, 37, 37, 37,\n",
       "        37, 37,  1, 25,  1,  1, 25,  1,  1, 25,  1,  1, 25,  1,  1, 25,  1,\n",
       "         1, 25,  1])}"
      ]
     },
     "execution_count": 30,
     "metadata": {},
     "output_type": "execute_result"
    }
   ],
   "source": [
    "grid_pipe.cv_results_"
   ]
  },
  {
   "cell_type": "code",
   "execution_count": 72,
   "id": "61c383fc",
   "metadata": {},
   "outputs": [
    {
     "data": {
      "text/plain": [
       "0.9928571428571429"
      ]
     },
     "execution_count": 72,
     "metadata": {},
     "output_type": "execute_result"
    }
   ],
   "source": [
    "grid_pipe.best_score_"
   ]
  },
  {
   "cell_type": "code",
   "execution_count": 32,
   "id": "4fd98c9c",
   "metadata": {},
   "outputs": [
    {
     "data": {
      "text/plain": [
       "array(['DrugY', 'drugA', 'drugB', 'drugC', 'drugX'], dtype=object)"
      ]
     },
     "execution_count": 32,
     "metadata": {},
     "output_type": "execute_result"
    }
   ],
   "source": [
    "grid_pipe.classes_"
   ]
  },
  {
   "cell_type": "code",
   "execution_count": 34,
   "id": "0f2aab77",
   "metadata": {},
   "outputs": [
    {
     "data": {
      "text/plain": [
       "ColumnTransformer(remainder=StandardScaler(),\n",
       "                  transformers=[('onehotencoder',\n",
       "                                 OneHotEncoder(drop='if_binary'),\n",
       "                                 ['Sex', 'Cholesterol']),\n",
       "                                ('ordinalencoder',\n",
       "                                 OrdinalEncoder(categories=[['LOW', 'NORMAL',\n",
       "                                                             'HIGH']]),\n",
       "                                 ['BP'])])"
      ]
     },
     "execution_count": 34,
     "metadata": {},
     "output_type": "execute_result"
    }
   ],
   "source": [
    "grid_pipe.best_estimator_['transformer']"
   ]
  },
  {
   "cell_type": "code",
   "execution_count": 35,
   "id": "519ad0b6",
   "metadata": {},
   "outputs": [
    {
     "data": {
      "text/plain": [
       "DecisionTreeClassifier(max_depth=4, min_samples_split=0.1)"
      ]
     },
     "execution_count": 35,
     "metadata": {},
     "output_type": "execute_result"
    }
   ],
   "source": [
    "grid_pipe.best_estimator_['model']"
   ]
  },
  {
   "cell_type": "code",
   "execution_count": 36,
   "id": "a64d4356",
   "metadata": {},
   "outputs": [
    {
     "data": {
      "text/plain": [
       "1"
      ]
     },
     "execution_count": 36,
     "metadata": {},
     "output_type": "execute_result"
    }
   ],
   "source": [
    "grid_pipe.verbose"
   ]
  },
  {
   "cell_type": "code",
   "execution_count": 37,
   "id": "e2607fba",
   "metadata": {},
   "outputs": [],
   "source": [
    "y_preds=grid_pipe.predict(X_test)"
   ]
  },
  {
   "cell_type": "code",
   "execution_count": 38,
   "id": "c1af4da3",
   "metadata": {},
   "outputs": [
    {
     "name": "stdout",
     "output_type": "stream",
     "text": [
      "[[26  0  0  0  0]\n",
      " [ 0  7  0  0  0]\n",
      " [ 0  0  3  0  0]\n",
      " [ 0  0  0  6  0]\n",
      " [ 0  0  0  0 18]]\n",
      "              precision    recall  f1-score   support\n",
      "\n",
      "       DrugY       1.00      1.00      1.00        26\n",
      "       drugA       1.00      1.00      1.00         7\n",
      "       drugB       1.00      1.00      1.00         3\n",
      "       drugC       1.00      1.00      1.00         6\n",
      "       drugX       1.00      1.00      1.00        18\n",
      "\n",
      "    accuracy                           1.00        60\n",
      "   macro avg       1.00      1.00      1.00        60\n",
      "weighted avg       1.00      1.00      1.00        60\n",
      "\n"
     ]
    }
   ],
   "source": [
    "confusion=confusion_matrix(y_preds,y_test)\n",
    "print(confusion)\n",
    "print(classification_report(y_preds,y_test))"
   ]
  },
  {
   "cell_type": "code",
   "execution_count": 39,
   "id": "27270479",
   "metadata": {},
   "outputs": [
    {
     "data": {
      "text/plain": [
       "<AxesSubplot:>"
      ]
     },
     "execution_count": 39,
     "metadata": {},
     "output_type": "execute_result"
    },
    {
     "data": {
      "image/png": "[encoded data removed]",
      "text/plain": [
       "<Figure size 432x288 with 2 Axes>"
      ]
     },
     "metadata": {
      "needs_background": "light"
     },
     "output_type": "display_data"
    }
   ],
   "source": [
    "sns.heatmap(confusion, annot=True)"
   ]
  },
  {
   "cell_type": "code",
   "execution_count": 40,
   "id": "a9dc1824",
   "metadata": {
    "scrolled": true
   },
   "outputs": [
    {
     "data": {
      "image/png": "[encoded data removed]",
      "text/plain": [
       "<Figure size 432x288 with 2 Axes>"
      ]
     },
     "metadata": {
      "needs_background": "light"
     },
     "output_type": "display_data"
    }
   ],
   "source": [
    "disp=ConfusionMatrixDisplay(confusion)\n",
    "disp.plot()\n",
    "plt.show()"
   ]
  },
  {
   "cell_type": "markdown",
   "id": "5b1a44e3",
   "metadata": {},
   "source": [
    "### RandomizedSearchCV"
   ]
  },
  {
   "cell_type": "code",
   "execution_count": 42,
   "id": "b717a554",
   "metadata": {},
   "outputs": [],
   "source": [
    "ran_pipe=RandomizedSearchCV(estimator=pipe,\n",
    "                           param_distributions=params,\n",
    "                           cv=5)"
   ]
  },
  {
   "cell_type": "code",
   "execution_count": 43,
   "id": "bd854bcf",
   "metadata": {},
   "outputs": [
    {
     "data": {
      "text/plain": [
       "RandomizedSearchCV(cv=5,\n",
       "                   estimator=Pipeline(steps=[('transformer',\n",
       "                                              ColumnTransformer(remainder=StandardScaler(),\n",
       "                                                                transformers=[('onehotencoder',\n",
       "                                                                               OneHotEncoder(drop='if_binary'),\n",
       "                                                                               ['Sex',\n",
       "                                                                                'Cholesterol']),\n",
       "                                                                              ('ordinalencoder',\n",
       "                                                                               OrdinalEncoder(categories=[['LOW',\n",
       "                                                                                                           'NORMAL',\n",
       "                                                                                                           'HIGH']]),\n",
       "                                                                               ['BP'])])),\n",
       "                                             ('model',\n",
       "                                              DecisionTreeClassifier())]),\n",
       "                   param_distributions={'model__criterion': ['gini', 'entropy'],\n",
       "                                        'model__max_depth': [2, 4, 6],\n",
       "                                        'model__min_samples_leaf': [1, 2, 3],\n",
       "                                        'model__min_samples_split': [0.1, 0.2,\n",
       "                                                                     0.05]})"
      ]
     },
     "execution_count": 43,
     "metadata": {},
     "output_type": "execute_result"
    }
   ],
   "source": [
    "ran_pipe.fit(X_train,y_train)"
   ]
  },
  {
   "cell_type": "code",
   "execution_count": 44,
   "id": "bc6bf09c",
   "metadata": {},
   "outputs": [
    {
     "data": {
      "text/plain": [
       "{'model__min_samples_split': 0.05,\n",
       " 'model__min_samples_leaf': 2,\n",
       " 'model__max_depth': 4,\n",
       " 'model__criterion': 'entropy'}"
      ]
     },
     "execution_count": 44,
     "metadata": {},
     "output_type": "execute_result"
    }
   ],
   "source": [
    "ran_pipe.best_params_"
   ]
  },
  {
   "cell_type": "code",
   "execution_count": 45,
   "id": "37f668d4",
   "metadata": {},
   "outputs": [
    {
     "data": {
      "text/plain": [
       "ColumnTransformer(remainder=StandardScaler(),\n",
       "                  transformers=[('onehotencoder',\n",
       "                                 OneHotEncoder(drop='if_binary'),\n",
       "                                 ['Sex', 'Cholesterol']),\n",
       "                                ('ordinalencoder',\n",
       "                                 OrdinalEncoder(categories=[['LOW', 'NORMAL',\n",
       "                                                             'HIGH']]),\n",
       "                                 ['BP'])])"
      ]
     },
     "execution_count": 45,
     "metadata": {},
     "output_type": "execute_result"
    }
   ],
   "source": [
    "ran_pipe.best_estimator_['transformer']"
   ]
  },
  {
   "cell_type": "code",
   "execution_count": 46,
   "id": "6c70228c",
   "metadata": {},
   "outputs": [
    {
     "data": {
      "text/plain": [
       "DecisionTreeClassifier(criterion='entropy', max_depth=4, min_samples_leaf=2,\n",
       "                       min_samples_split=0.05)"
      ]
     },
     "execution_count": 46,
     "metadata": {},
     "output_type": "execute_result"
    }
   ],
   "source": [
    "ran_pipe.best_estimator_['model']"
   ]
  },
  {
   "cell_type": "code",
   "execution_count": 54,
   "id": "8577415f",
   "metadata": {},
   "outputs": [
    {
     "data": {
      "text/plain": [
       "0.9928571428571429"
      ]
     },
     "execution_count": 54,
     "metadata": {},
     "output_type": "execute_result"
    }
   ],
   "source": [
    "ran_pipe.best_score_"
   ]
  },
  {
   "cell_type": "code",
   "execution_count": 55,
   "id": "ec90a514",
   "metadata": {},
   "outputs": [
    {
     "data": {
      "text/plain": [
       "array(['DrugY', 'drugA', 'drugB', 'drugC', 'drugX'], dtype=object)"
      ]
     },
     "execution_count": 55,
     "metadata": {},
     "output_type": "execute_result"
    }
   ],
   "source": [
    "ran_pipe.classes_"
   ]
  },
  {
   "cell_type": "code",
   "execution_count": 56,
   "id": "7d0a996b",
   "metadata": {},
   "outputs": [],
   "source": [
    "ran_y_preds=ran_pipe.predict(X_test)"
   ]
  },
  {
   "cell_type": "code",
   "execution_count": 57,
   "id": "3b90ad0f",
   "metadata": {},
   "outputs": [],
   "source": [
    "confusioin_ran=confusion_matrix(y_test,ran_y_preds)"
   ]
  },
  {
   "cell_type": "code",
   "execution_count": 58,
   "id": "83cacb5e",
   "metadata": {},
   "outputs": [
    {
     "name": "stdout",
     "output_type": "stream",
     "text": [
      "[[26  0  0  0  0]\n",
      " [ 0  7  0  0  0]\n",
      " [ 0  0  3  0  0]\n",
      " [ 0  0  0  6  0]\n",
      " [ 0  0  0  0 18]]\n",
      "              precision    recall  f1-score   support\n",
      "\n",
      "       DrugY       1.00      1.00      1.00        26\n",
      "       drugA       1.00      1.00      1.00         7\n",
      "       drugB       1.00      1.00      1.00         3\n",
      "       drugC       1.00      1.00      1.00         6\n",
      "       drugX       1.00      1.00      1.00        18\n",
      "\n",
      "    accuracy                           1.00        60\n",
      "   macro avg       1.00      1.00      1.00        60\n",
      "weighted avg       1.00      1.00      1.00        60\n",
      "\n"
     ]
    }
   ],
   "source": [
    "print(confusioin_ran)\n",
    "print(classification_report(y_test,ran_y_preds))"
   ]
  },
  {
   "cell_type": "code",
   "execution_count": 59,
   "id": "5073892b",
   "metadata": {},
   "outputs": [
    {
     "data": {
      "text/plain": [
       "<AxesSubplot:>"
      ]
     },
     "execution_count": 59,
     "metadata": {},
     "output_type": "execute_result"
    },
    {
     "data": {
      "image/png": "[encoded data removed]",
      "text/plain": [
       "<Figure size 432x288 with 2 Axes>"
      ]
     },
     "metadata": {
      "needs_background": "light"
     },
     "output_type": "display_data"
    }
   ],
   "source": [
    "sns.heatmap(confusioin_ran,annot=True)"
   ]
  },
  {
   "cell_type": "code",
   "execution_count": 60,
   "id": "16ba3c77",
   "metadata": {},
   "outputs": [
    {
     "data": {
      "image/png": "[encoded data removed]",
      "text/plain": [
       "<Figure size 432x288 with 2 Axes>"
      ]
     },
     "metadata": {
      "needs_background": "light"
     },
     "output_type": "display_data"
    }
   ],
   "source": [
    "disp_ran=ConfusionMatrixDisplay(confusioin_ran)\n",
    "disp_ran.plot()\n",
    "plt.show()"
   ]
  },
  {
   "cell_type": "code",
   "execution_count": null,
   "id": "cab276ac",
   "metadata": {},
   "outputs": [],
   "source": []
  },
  {
   "cell_type": "code",
   "execution_count": null,
   "id": "8ae1807b",
   "metadata": {},
   "outputs": [],
   "source": []
  }
 ],
 "metadata": {
  "kernelspec": {
   "display_name": "Python 3 (ipykernel)",
   "language": "python",
   "name": "python3"
  },
  "language_info": {
   "codemirror_mode": {
    "name": "ipython",
    "version": 3
   },
   "file_extension": ".py",
   "mimetype": "text/x-python",
   "name": "python",
   "nbconvert_exporter": "python",
   "pygments_lexer": "ipython3",
   "version": "3.9.7"
  }
 },
 "nbformat": 4,
 "nbformat_minor": 5
}
